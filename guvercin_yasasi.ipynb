{
 "cells": [
  {
   "cell_type": "markdown",
   "metadata": {},
   "source": [
    "**GÜVERCİN YASASI PRENSİBİ**\n",
    "\n",
    "Bahçenizde 6 güvercin 5 tanede güvercin yuvası olduğunu varsayarsak. Eğer bahçemizde ki güvercinlerin sayısı yuva sayısından fazla ise en az bir yuvada birden fazla güvercin bulunur. \n",
    "Örneğimizde 6/5=1.2 tane güvercin bulunamayacağından bu rakam sürekli bir üst değere yuvarlanır. Böylece en az bir yuvada 2 güvercin bulunur.\n",
    "Örneğimizi matematikel şekilde göstermemiz gerekirse x tane güvercin y tane yuva  x > y  durumunda en az bir yuvada birden fazla güvercin bulunacaktır."
   ]
  },
  {
   "cell_type": "code",
   "execution_count": 2,
   "metadata": {},
   "outputs": [
    {
     "name": "stdout",
     "output_type": "stream",
     "text": [
      "Güvercin sayisini giriniz:4\n",
      "Yuva sayisini giriniz:3\n",
      "En az bir yuvada bulunan güvercin sayisi: 2.0\n"
     ]
    }
   ],
   "source": [
    "import numpy as np\n",
    "import math\n",
    "guvercin_sayisi=int(input(\"Güvercin sayisini giriniz:\"))\n",
    "yuva_sayisi=int(input(\"Yuva sayisini giriniz:\"))\n",
    "if yuva_sayisi<=0 or guvercin_sayisi <=0:\n",
    "    print(\"0 değeri girdiniz. Tekrardan sayi giriniz.\")\n",
    "else:\n",
    "    result=np.ceil(guvercin_sayisi/yuva_sayisi)\n",
    "    print(\"En az bir yuvada bulunan güvercin sayisi:\",result)"
   ]
  },
  {
   "cell_type": "code",
   "execution_count": null,
   "metadata": {},
   "outputs": [],
   "source": []
  }
 ],
 "metadata": {
  "kernelspec": {
   "display_name": "Python 3",
   "language": "python",
   "name": "python3"
  },
  "language_info": {
   "codemirror_mode": {
    "name": "ipython",
    "version": 3
   },
   "file_extension": ".py",
   "mimetype": "text/x-python",
   "name": "python",
   "nbconvert_exporter": "python",
   "pygments_lexer": "ipython3",
   "version": "3.6.8"
  }
 },
 "nbformat": 4,
 "nbformat_minor": 2
}
