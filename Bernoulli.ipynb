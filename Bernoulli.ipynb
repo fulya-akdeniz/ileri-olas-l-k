{
  "nbformat": 4,
  "nbformat_minor": 0,
  "metadata": {
    "colab": {
      "name": "Bernoulli.ipynb",
      "version": "0.3.2",
      "provenance": [],
      "include_colab_link": true
    },
    "kernelspec": {
      "name": "python3",
      "display_name": "Python 3"
    }
  },
  "cells": [
    {
      "cell_type": "markdown",
      "metadata": {
        "id": "view-in-github",
        "colab_type": "text"
      },
      "source": [
        "<a href=\"https://colab.research.google.com/github/fulya-akdeniz/ileri-olasilik/blob/master/Bernoulli.ipynb\" target=\"_parent\"><img src=\"https://colab.research.google.com/assets/colab-badge.svg\" alt=\"Open In Colab\"/></a>"
      ]
    },
    {
      "cell_type": "markdown",
      "metadata": {
        "id": "27X-eH_yBfW8",
        "colab_type": "text"
      },
      "source": [
        ""
      ]
    },
    {
      "cell_type": "markdown",
      "metadata": {
        "id": "GaBBG9wABhB6",
        "colab_type": "text"
      },
      "source": [
        "#$$ BERNOULLI $$\n",
        "Bir deneyde basarı ve basarısızlık diye nitelendirilen iki sonuçla ilgilenildiginde bu deneye (iki sonuçlu) Bernoulli deneyi denir.\n",
        "\n",
        "**Örnek:** Bir deste iskambilden çekilen bir kağıdın as olup olmaması ile ilgileniyor. As gelmesi başarı olarak ifade edildiği durum için olasılık fonksiyonunu oluşturunuz. <br/>\n",
        "\n",
        "**Cözüm:** <br/>\n",
        "$P(x=0)= \\frac{48}{52} $  <br/>\n",
        "$P(x=1)= \\frac{4}{52} $  <br/>\n",
        "E(x)=(0 * 1-(48/52)) + (1* (4/52)) =  0.0769 <br/> \n",
        "\n",
        "\n",
        "$E(x^2)=0^2$ * (1-(48/52)) + $1^2$    *((4/52)) = 0.0769   <br/>\n",
        "\n",
        "$varyans$=$0.0769 ^2$-(1-0.0769 )= 0.0.71 <br/>\n",
        "\n"
      ]
    },
    {
      "cell_type": "code",
      "metadata": {
        "id": "0j_OvWI-Ho0l",
        "colab_type": "code",
        "colab": {
          "base_uri": "https://localhost:8080/",
          "height": 72
        },
        "outputId": "da675a99-cf59-45e8-deda-ea786b03352b"
      },
      "source": [
        "as_gelmemesi0= 48/52\n",
        "as_gelmesi1= 4/52\n",
        "x=0.1\n",
        "\n",
        "E_x=0*as_gelmemesi0+1*as_gelmesi1\n",
        "print(\"Bernoulli dağılımının beklenen değeri {} \".format(E_x))\n",
        "\n",
        "beklenen_deger_karesi =((0**2)*as_gelmemesi0)+((1**2)*as_gelmesi1)\n",
        "print(\"Bernoulli dağılımının beklenen değerinin karesi {} \".format(beklenen_deger_karesi))\n",
        "\n",
        "varyans=(beklenen_deger_karesi-E_x**2)\n",
        "print(\"Bernoulli dağılımının varyansı: {} \".format(varyans))"
      ],
      "execution_count": 1,
      "outputs": [
        {
          "output_type": "stream",
          "text": [
            "Bernoulli dağılımının beklenen değeri 0.07692307692307693 \n",
            "Bernoulli dağılımının beklenen değerinin karesi 0.07692307692307693 \n",
            "Bernoulli dağılımının varyansı: 0.07100591715976332 \n"
          ],
          "name": "stdout"
        }
      ]
    }
  ]
}