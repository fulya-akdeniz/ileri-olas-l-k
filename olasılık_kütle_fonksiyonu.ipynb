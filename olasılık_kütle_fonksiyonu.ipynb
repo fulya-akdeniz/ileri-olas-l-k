{
  "nbformat": 4,
  "nbformat_minor": 0,
  "metadata": {
    "colab": {
      "name": "olasılık_kütle_fonksiyonu.ipynb",
      "version": "0.3.2",
      "provenance": [],
      "include_colab_link": true
    },
    "kernelspec": {
      "name": "python3",
      "display_name": "Python 3"
    }
  },
  "cells": [
    {
      "cell_type": "markdown",
      "metadata": {
        "id": "view-in-github",
        "colab_type": "text"
      },
      "source": [
        "<a href=\"https://colab.research.google.com/github/fulya-akdeniz/ileri-olasilik/blob/master/olas%C4%B1l%C4%B1k_k%C3%BCtle_fonksiyonu.ipynb\" target=\"_parent\"><img src=\"https://colab.research.google.com/assets/colab-badge.svg\" alt=\"Open In Colab\"/></a>"
      ]
    },
    {
      "cell_type": "markdown",
      "metadata": {
        "id": "fBckMh4Cm6lw",
        "colab_type": "text"
      },
      "source": [
        "#$$ OLASILIK \\  KUTLE \\ FONKSIYONU $$\n",
        "Olasılık kütle fonksiyonuna ayrık olasılık dağılımıda denilmektedir. Ayrık (kesikli) rasgele bir değişken değerinin belirli bir değere eşit olma olasılığıdır. Bu değerler negatif olamaz ve bütün değerlerin toplamı 1 e eşit olmak zorundadır.  <br/>\n",
        "Örneğin bir para 3 kez havaya atıldığı zaman örnek uzayımız {TTT, TTY, TYT, YTT, TYY, YTY, YYT, YYY} olarak bulunur. Rasgele değişkenlerimiz X: Tura gelmelerinin sayısı  X={0, 1, 2, 3} olaarak bulunarak olasılık dağılımını hesaplayabiliriz. Örnek uzayımızada bakarak; <br/>\n",
        "X(0)=1/8  <br/>\n",
        "X(1)=3/8  <br/>\n",
        "X(2)=3/8  <br/>\n",
        "X(3)=1/8 olarak bulunur.  <br/>\n",
        "\n",
        "**Örnek:** Bir torbada  4 yeşil 3 mavi top vardır. Torbadan 2 top çekiliyor. Mavi top gelme sayısına ait kesikli olasılık dağılımını bulunuz. <br/>\n",
        " <br/>\n",
        "**Cözüm:** örnek uzayımız;  <br/>\n",
        "$$P(X=0) = \\frac{4}{7} *\\frac{3}{6}=\\frac{2}{7}$$  <br/>\n",
        " <br/>\n",
        "\n",
        "$$P(X=1) = \\frac{4}{7} *\\frac{3}{6}+ \\frac{3}{7} *\\frac{4}{6}=\\frac{4}{7}$$  <br/>\n",
        " <br/>\n",
        "\n",
        "$$P(X=2) = \\frac{3}{7} *\\frac{2}{6}=\\frac{1}{7}$$  <br/>\n",
        "\n",
        "\n"
      ]
    },
    {
      "cell_type": "code",
      "metadata": {
        "id": "e_uXcJVPtyFA",
        "colab_type": "code",
        "colab": {
          "base_uri": "https://localhost:8080/",
          "height": 90
        },
        "outputId": "55cfc3e3-aad4-45af-e6da-8a09edf4555f"
      },
      "source": [
        "MaviTop = 3\n",
        "YesilTop = 4\n",
        "\n",
        "print('2 Top Cekiliyor, Mavi Top Gelme Olasiligi ')\n",
        "\n",
        "\n",
        "uzay = MaviTop + YesilTop\n",
        "\n",
        "p_x0 = (YesilTop/ uzay) * ((YesilTop-1)/(uzay-1))\n",
        "p_x1 = (MaviTop / uzay) * (YesilTop / (uzay-1)) + (YesilTop / uzay) * ( MaviTop / (uzay-1))\n",
        "p_x2 = (MaviTop / uzay) * ((MaviTop-1)/(uzay-1))\n",
        "\n",
        "\n",
        "print('P(X=0) =  %.3f' % p_x0)\n",
        "print('P(X=1) =  %.3f' % p_x1)\n",
        "print('P(X=2) =  %.3f' % p_x2)"
      ],
      "execution_count": 1,
      "outputs": [
        {
          "output_type": "stream",
          "text": [
            "2 Top Cekiliyor, Mavi Top Gelme Olasiligi \n",
            "P(X=0) =  0.286\n",
            "P(X=1) =  0.571\n",
            "P(X=2) =  0.143\n"
          ],
          "name": "stdout"
        }
      ]
    }
  ]
}