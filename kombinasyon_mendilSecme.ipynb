{
  "nbformat": 4,
  "nbformat_minor": 0,
  "metadata": {
    "colab": {
      "name": "Untitled0.ipynb",
      "version": "0.3.2",
      "provenance": [],
      "include_colab_link": true
    },
    "kernelspec": {
      "name": "python3",
      "display_name": "Python 3"
    }
  },
  "cells": [
    {
      "cell_type": "markdown",
      "metadata": {
        "id": "view-in-github",
        "colab_type": "text"
      },
      "source": [
        "<a href=\"https://colab.research.google.com/github/fulya-akdeniz/ileri-olasilik/blob/master/kombinasyon_mendilSecme.ipynb\" target=\"_parent\"><img src=\"https://colab.research.google.com/assets/colab-badge.svg\" alt=\"Open In Colab\"/></a>"
      ]
    },
    {
      "metadata": {
        "id": "KyVY78vvPf9n",
        "colab_type": "text"
      },
      "cell_type": "markdown",
      "source": [
        ""
      ]
    },
    {
      "metadata": {
        "id": "6lT-b1dCPhtw",
        "colab_type": "text"
      },
      "cell_type": "markdown",
      "source": [
        "**$$ KOMBINASYON$$ **\n",
        "n ve r birer poizitf doğal sayı olmak üzere ve r≤n olsun. <br/>\n",
        "n elemanlı kümemizdeki herhangi r elemanı kaç farklı şekilde seçebileceğimizin sayısı C(n,r) şeklinde gösterilir.\n",
        "\n",
        "\n",
        "$$C(n,r) = \\frac{n!}{(n-r)!*r!} $$\n",
        "\n",
        "\n",
        "\n",
        "Permütasyon işleminde sıralama önemli iken kombinasyonda ise seçme işlemi önemlidir. Bunu bir örnekle açıklayalım. <br/>\n",
        "**Örnek:** Çantamızda 6 tane mendil bulunsun . Bu 6 tane mendilden 3 tanesini kaç farklı şekilde seçebiliriz? <br/>\n",
        "**Çözüm:**  Bu örnekte 6 mendilimiz vardır. n=6 olur, Mendillerden 3 tanesini seçmek istiyoruz  r=3 olur.\n",
        "\n",
        "$$ C(6,3) = \\frac{6!}{(6-3)!*3!}=20 $$ "
      ]
    },
    {
      "metadata": {
        "id": "fQULkGaiYuB3",
        "colab_type": "code",
        "outputId": "4de633f6-d0b8-4587-a289-ece3a8c39570",
        "colab": {
          "base_uri": "https://localhost:8080/",
          "height": 72
        }
      },
      "cell_type": "code",
      "source": [
        "def faktoriyel(sayi):\n",
        "    if sayi <= 1:\n",
        "        return 1\n",
        "    else:\n",
        "        return sayi*faktoriyel(sayi-1)\n",
        "\n",
        "\n",
        "mendilSayisi = int(input(\"Mendil sayisini giriniz:\"))\n",
        "mendilSecimSayisi = int(input(\"Mendilleri kaç farklı şekilde seçmek istediğinizi giriniz:\"))\n",
        "if (mendilSayisi==0 or mendilSecimSayisi==0):\n",
        "    print(\"O dan farklı değer giriniz\")\n",
        "else:\n",
        "    sonuc = faktoriyel(mendilSayisi)/faktoriyel(mendilSayisi-mendilSecimSayisi)\n",
        "    sonuc2 = sonuc/faktoriyel(mendilSecimSayisi)\n",
        "    print(\"%d tane mendilden %d tanesi %d farkli şekilde seçilebilir. \" %(mendilSayisi,mendilSecimSayisi,sonuc2 ))"
      ],
      "execution_count": 0,
      "outputs": [
        {
          "output_type": "stream",
          "text": [
            "Mendil sayisini giriniz:6\n",
            "Mendilleri kaç farklı şekilde seçmek istediğinizi giriniz:3\n",
            "6 tane mendilden 3 tanesi 20 farkli şekilde seçilebilir. \n"
          ],
          "name": "stdout"
        }
      ]
    }
  ]
}