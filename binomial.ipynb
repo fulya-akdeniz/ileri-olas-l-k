{
  "nbformat": 4,
  "nbformat_minor": 0,
  "metadata": {
    "colab": {
      "name": "binomial.ipynb",
      "version": "0.3.2",
      "provenance": [],
      "include_colab_link": true
    },
    "kernelspec": {
      "name": "python3",
      "display_name": "Python 3"
    }
  },
  "cells": [
    {
      "cell_type": "markdown",
      "metadata": {
        "id": "view-in-github",
        "colab_type": "text"
      },
      "source": [
        "<a href=\"https://colab.research.google.com/github/fulya-akdeniz/ileri-olasilik/blob/master/binomial.ipynb\" target=\"_parent\"><img src=\"https://colab.research.google.com/assets/colab-badge.svg\" alt=\"Open In Colab\"/></a>"
      ]
    },
    {
      "cell_type": "markdown",
      "metadata": {
        "id": "CmEwHphh2BiU",
        "colab_type": "text"
      },
      "source": [
        "#$$ BINOMIAL\\ $$\n",
        "\n",
        "**Örnek:** Bir hastanede yapılan ameliyatların %80 oraninda basarili olmaktadır. Bu hastanede 10 hasta varsa 6 'sinin iyilesme olasiligi nedir.  <br/>\n",
        "**Cözüm:** <br/>\n",
        "$C(10,6) * 0.8^2 * (1-0.8) ^2 $   = 0.088\n"
      ]
    },
    {
      "cell_type": "code",
      "metadata": {
        "id": "VNcXK6lH6WoH",
        "colab_type": "code",
        "outputId": "2916ad1a-125e-43d2-d21f-cd79b6a9056f",
        "colab": {
          "base_uri": "https://localhost:8080/",
          "height": 54
        }
      },
      "source": [
        "\n",
        "hasta_sayisi = 10\n",
        "iyilesme_olasiligi = 0.8\n",
        "\n",
        "\n",
        "def faktoriyel(sayi):\n",
        "    if sayi<1:\n",
        "        return 1\n",
        "    else:\n",
        "        return sayi*faktoriyel(sayi-1)\n",
        "\n",
        "def kombinasyon (sayi,x):\n",
        "    sonuc = faktoriyel(sayi) / (faktoriyel(sayi - x) * faktoriyel(x))\n",
        "    return sonuc\n",
        "\n",
        "def binOlasilik (sayi):\n",
        "    sonuc = kombinasyon(hasta_sayisi, sayi)* pow(iyilesme_olasiligi,sayi) * pow((1-iyilesme_olasiligi), (hasta_sayisi-sayi))\n",
        "    return  sonuc\n",
        "\n",
        "\n",
        "\n",
        "print('Hastanin iyilesme orani ameliyat sonrasi %80')\n",
        "\n",
        "print('10 hastadan 6 sinin iyilesme olasiligi = %.3f' % binOlasilik(6))\n"
      ],
      "execution_count": 0,
      "outputs": [
        {
          "output_type": "stream",
          "text": [
            "Hastanin iyilesme orani ameliyat sonrasi %80\n",
            "10 hastadan 6 sinin iyilesme olasiligi = 0.088\n"
          ],
          "name": "stdout"
        }
      ]
    },
    {
      "cell_type": "markdown",
      "metadata": {
        "id": "uaTyQM4z2BFS",
        "colab_type": "text"
      },
      "source": [
        ""
      ]
    }
  ]
}