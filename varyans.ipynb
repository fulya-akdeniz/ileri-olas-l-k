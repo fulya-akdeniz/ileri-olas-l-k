{
  "nbformat": 4,
  "nbformat_minor": 0,
  "metadata": {
    "colab": {
      "name": "varyans.ipynb",
      "version": "0.3.2",
      "provenance": [],
      "include_colab_link": true
    },
    "kernelspec": {
      "name": "python3",
      "display_name": "Python 3"
    }
  },
  "cells": [
    {
      "cell_type": "markdown",
      "metadata": {
        "id": "view-in-github",
        "colab_type": "text"
      },
      "source": [
        "<a href=\"https://colab.research.google.com/github/fulya-akdeniz/ileri-olasilik/blob/master/varyans.ipynb\" target=\"_parent\"><img src=\"https://colab.research.google.com/assets/colab-badge.svg\" alt=\"Open In Colab\"/></a>"
      ]
    },
    {
      "cell_type": "markdown",
      "metadata": {
        "colab_type": "text",
        "id": "zayXo1muuXPT"
      },
      "source": [
        "#$$ VARYANS $$\n",
        "\n",
        "**Örnek:** Bir kitaptaki bir sayfadaki yanlış sayısı ile ilgili X’in olasılık fonksiyonu şöyledir <br/>\n",
        " <br/>\n",
        "P(x=0) =0.81  <br/>\n",
        "P(x=1) =0.17  <br/>\n",
        "P(x=2) =0.02  <br/>\n",
        "\n",
        "**Cözüm:** <br/>\n",
        "E(x)=0 * 0.81+1 * 0.17+ 2 * 0.02 = 0.21 <br/> \n",
        "Sayfa başı ortalama 0.21 yanlış bulunur <br/> \n",
        "\n",
        "$E(x^2)=0^2$ * 0.081 + $1^2$    * 0.17 + 2^2 * 0.02 = 0.25   <br/>\n",
        "\n",
        "$varyans^2$=0.25 - $0.21^2$= 0.2059 <br/>\n",
        "varyans= 0.45\n",
        "\n"
      ]
    },
    {
      "cell_type": "code",
      "metadata": {
        "id": "jLDMvQ9Qx76o",
        "colab_type": "code",
        "outputId": "5106902e-5b19-473c-9378-76e7978f0dd9",
        "colab": {
          "base_uri": "https://localhost:8080/",
          "height": 145
        }
      },
      "source": [
        "def faktoriyel(sayi):\n",
        "    if sayi <= 1:\n",
        "        return 1\n",
        "    else:\n",
        "        return sayi*faktoriyel(sayi-1)\n",
        "\n",
        "sonuc=0\n",
        "sonuc2=0\n",
        "yanlıs_0=0\n",
        "yanlıs_1 =0\n",
        "yanlıs_2=0\n",
        "yanlıs_0 = float(input(\"Hiç yanlış olmaması:\"))\n",
        "yanlıs_1 = float(input(\"Bir yanlış olması:\"))\n",
        "yanlıs_2 = float(input(\"İki yanlış olması:\"))\n",
        "\n",
        "E_x=0*yanlıs_0+1*yanlıs_1 +2*yanlıs_2\n",
        "print(\"Sayfa başı ortalama yanlış sayısı {} \".format(E_x))\n",
        "\n",
        "print(\"Beklenen değer  hesabı:\")\n",
        "beklenen_deger =(0**2*yanlıs_0)+(1**2*yanlıs_1)+(2**2*yanlıs_2)\n",
        "print(\"Beklenen değer: {} \".format(beklenen_deger))\n",
        "varyans=((beklenen_deger-(E_x**2)))**0.5\n",
        "print(\"Varyans: {} \".format(varyans))\n"
      ],
      "execution_count": 0,
      "outputs": [
        {
          "output_type": "stream",
          "text": [
            "Hiç yanlış olmaması:0.81\n",
            "Bir yanlış olması:0.17\n",
            "İki yanlış olması:0.02\n",
            "Sayfa başı ortalama yanlış sayısı 0.21000000000000002 \n",
            "Beklenen değer  hesabı:\n",
            "Beklenen değer: 0.25 \n",
            "Varyans: 0.4537620521815371 \n"
          ],
          "name": "stdout"
        }
      ]
    }
  ]
}