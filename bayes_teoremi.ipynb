{
  "nbformat": 4,
  "nbformat_minor": 0,
  "metadata": {
    "colab": {
      "name": "Untitled1.ipynb",
      "version": "0.3.2",
      "provenance": [],
      "include_colab_link": true
    },
    "kernelspec": {
      "name": "python3",
      "display_name": "Python 3"
    }
  },
  "cells": [
    {
      "cell_type": "markdown",
      "metadata": {
        "id": "view-in-github",
        "colab_type": "text"
      },
      "source": [
        "<a href=\"https://colab.research.google.com/github/fulya-akdeniz/ileri-olasilik/blob/master/bayes_teoremi.ipynb\" target=\"_parent\"><img src=\"https://colab.research.google.com/assets/colab-badge.svg\" alt=\"Open In Colab\"/></a>"
      ]
    },
    {
      "metadata": {
        "id": "L_Qa00BZSIbX",
        "colab_type": "text"
      },
      "cell_type": "markdown",
      "source": [
        "#$$BAYES  TEOREMI$$  "
      ]
    },
    {
      "metadata": {
        "id": "FOPGf8n3TUdb",
        "colab_type": "text"
      },
      "cell_type": "markdown",
      "source": [
        "Bayes teoremi, olasılık değerinin hesaplanmasının bir koşula bağlandığı zaman kullanılan bir teoremdir. Yani Y koşulunun gerçeklenmesi koşulu altında X olayının olma olasılığıdır.\n",
        "$$P(X|Y) = \\frac{P(Y|X)*P(X)}{P(Y)} $$\n",
        "\n",
        "P(X|Y) =Y olayı meydana geldiğinde  X olayının gerçekleşme olasılığı  <br/>\n",
        "P(X)= X olayının meydana gelme olasılığı  <br/>\n",
        "P(Y|X) =X olayı meydana geldiğinde  Y olayının gerçekleşme olasılığı  <br/>\n",
        "P(Y)= X olayının meydana gelme olasılığı  <br/>\n",
        "**Örnek:** Ayşe polenlere karşı hapşurduğunu söylüyor. Polen alerjisi için hastanede bir test yapılıyor, ancak test herzaman doğru sonucu vermiyor: Gerçekten polen alerjisi olan bireylerde, testin True sonucu vermesi %90 oranında. Polen alerjisi olmayan bireylerde, testin True sonucu vermesi %5 oranındadır. (“false positive “). Nüfusun %2’inde alerji varsa ve test True çıkıyorsa, Ayşe’nin gerçekten alerji olma olasılığı nedir? <br/>\n",
        "**Çözüm:**  <br/>\n",
        "X:Polen Alerjisi  <br/>\n",
        "Y: Polen alerji testinin True çıkması  <br/>\n",
        "P(X)= Polen alerji olasılığı  <br/>\n",
        "P(Y) : Testin true çıkma olasılığı ?  <br/>\n",
        "P(X|Y) : Testin true çıkması durumunda alerji olasılığı = ?  <br/>\n",
        "P(X|Y) : Polen alerjisi olması durumunda testin true çıkma olasılığı = 0.90  <br/>\n",
        "Önce testin true çıkma olasılığı olan P(Y) yi bulalım.  <br/>\n",
        "P(Y) = 0.02 * 0.90 + 0.98 * 0.05 = 0.067 olarak hesapladık.  <br/>\n",
        "Şimdi bayes teoreminden sonucumuzu bulalım.\n",
        "\n",
        "\n",
        "P(X|Y)=P(X)*P(Y|X)/P(Y) => 0.02 * 0.90 / 0.067 = 0.268 => yaklaşık %27bulunur. \n",
        "\n",
        "\n",
        "\n",
        "\n",
        "\n"
      ]
    },
    {
      "metadata": {
        "id": "-EQJtvxqaR8h",
        "colab_type": "code",
        "outputId": "06d7849f-fc3e-4c18-f8eb-18a77837e161",
        "colab": {
          "base_uri": "https://localhost:8080/",
          "height": 90
        }
      },
      "cell_type": "code",
      "source": [
        "import sys\n",
        "pX=float(input(\"İnsanlarda polen alerjisi görülme olasılığını giriniz:\"))\n",
        "if (pX>1 ):\n",
        "\n",
        "    print(\"Olasılık değerinizi 0 ile 1 arasında girmeniz gerekmektedir.\")\n",
        "    sys.exit()\n",
        "\n",
        "pY_X=float(input(\"Gerçekten polen alerjisi olan insanlar için, testin “true” sonucu vermesi olasılığını giriniz:\"))\n",
        "if (pY_X>1):\n",
        "    print(\"Olasılık değerinizi 0 ile 1 arasında girmeniz gerekmektedir.\")\n",
        "    sys.exit()\n",
        "F_P=float(input(\"Polen alerjisi olmayan insanlar için, testin “true” sonucu vermesi olasılığını giriniz:\"))\n",
        "\n",
        "if (F_P>1):\n",
        "    print(\"Olasılık değerinizi 0 ile 1 arasında girmeniz gerekmektedir.\")\n",
        "    sys.exit()\n",
        "else:\n",
        "    pY = pX * pY_X + (1 - pX) * F_P\n",
        "    pX_Y=pX*pY_X/pY\n",
        "print(\"Ayşe’nin gerçekten polene alerjisi olma olasılığı %f dir \" %(pX_Y ))\n"
      ],
      "execution_count": 0,
      "outputs": [
        {
          "output_type": "stream",
          "text": [
            "İnsanlarda polen alerjisi görülme olasılığını giriniz:0.02\n",
            "Gerçekten polen alerjisi olan insanlar için, testin “true” sonucu vermesi olasılığını giriniz:0.9\n",
            "Polen alerjisi olmayan insanlar için, testin “true” sonucu vermesi olasılığını giriniz:0.05\n",
            "Ayşe’nin gerçekten polene alerjisi olma olasılığı 0.268657 dir \n"
          ],
          "name": "stdout"
        }
      ]
    }
  ]
}