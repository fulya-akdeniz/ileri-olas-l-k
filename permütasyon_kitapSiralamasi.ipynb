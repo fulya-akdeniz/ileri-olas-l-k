{
  "nbformat": 4,
  "nbformat_minor": 0,
  "metadata": {
    "colab": {
      "name": "Copy of Untitled0.ipynb",
      "version": "0.3.2",
      "provenance": [],
      "include_colab_link": true
    },
    "kernelspec": {
      "name": "python3",
      "display_name": "Python 3"
    }
  },
  "cells": [
    {
      "cell_type": "markdown",
      "metadata": {
        "id": "view-in-github",
        "colab_type": "text"
      },
      "source": [
        "<a href=\"https://colab.research.google.com/github/fulya-akdeniz/ileri-olasilik/blob/master/perm%C3%BCtasyon_kitapSiralamasi.ipynb\" target=\"_parent\"><img src=\"https://colab.research.google.com/assets/colab-badge.svg\" alt=\"Open In Colab\"/></a>"
      ]
    },
    {
      "metadata": {
        "id": "Laav6XWRfncU",
        "colab_type": "text"
      },
      "cell_type": "markdown",
      "source": [
        "**$$ PERMUTASYON$$ **\n",
        "n ve r birer poizitf doğal sayı olmak üzere ve r≤n olsun. <br/>\n",
        "n elemanlı kümemizdeki herhangi r elemanın  tüm dizilimlerinin sayısı P(n,r) şeklinde gösterilir.\n",
        "\n",
        "\n",
        "$$P(n,r) = \\frac{n!}{(n-r)!} $$\n",
        "\n",
        "\n",
        "\n",
        "Permütasyon işlemi bir sıralama işlemidir. Bunu bir örnekle açıklayalım. <br/>\n",
        "**Örnek:** Kütüphanemizde 4 farklı kitap bulunsun. Bu kitapları kaç farklı şekilde sıralayabiliriz?<br/>\n",
        "**Çözüm:**  Bu örnekte 4 kitabımız vardır. n=4 olur, kitapların hepsini sıralamak istediğimizden r=4 olur.\n",
        "\n",
        "$$ P(4,4) = \\frac{4!}{(4-4)!}=24 $$ \n",
        "\n",
        "\n",
        "\n",
        "\n"
      ]
    },
    {
      "metadata": {
        "id": "IJoGb5OZf07Q",
        "colab_type": "code",
        "outputId": "30f0f5a7-9f32-4d98-f873-42feb005551d",
        "colab": {
          "base_uri": "https://localhost:8080/",
          "height": 54
        }
      },
      "cell_type": "code",
      "source": [
        "kitap_sayisi=int(input(\"Kitap sayısını giriniz:\"))\n",
        "faktoriyel=1\n",
        "if (kitap_sayisi==0 or kitap_sayisi==1):\n",
        "    print(faktoriyel)\n",
        "else:\n",
        "    while(kitap_sayisi>=1):\n",
        "\n",
        "        faktoriyel=faktoriyel*kitap_sayisi\n",
        "        kitap_sayisi=kitap_sayisi-1\n",
        "\n",
        "    print(\"Kitaplar %d farklı şekilde sıralanabilir. \" %(faktoriyel))"
      ],
      "execution_count": 0,
      "outputs": [
        {
          "output_type": "stream",
          "text": [
            "Kitap sayısını giriniz:4\n",
            "Kitaplar 24 farklı şekilde sıralanabilir. \n"
          ],
          "name": "stdout"
        }
      ]
    },
    {
      "metadata": {
        "id": "yZzKzBrFfyq3",
        "colab_type": "text"
      },
      "cell_type": "markdown",
      "source": [
        ""
      ]
    }
  ]
}